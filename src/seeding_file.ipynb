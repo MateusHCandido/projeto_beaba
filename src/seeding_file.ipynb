{
 "cells": [
  {
   "cell_type": "code",
   "execution_count": 6,
   "metadata": {},
   "outputs": [],
   "source": [
    "import pandas as pd\n",
    "from faker import Faker\n",
    "\n",
    "fake = Faker()\n",
    "\n",
    "# Criar dados fictícios\n",
    "data = {\n",
    "    'Texto': [fake.name() for _ in range(100000)],\n",
    "    'Data': [fake.date_between(start_date='-30d', end_date='today').strftime('%d/%m/%Y') for _ in range(100000)],\n",
    "    'Decimal': [max(fake.pydecimal(left_digits=2, right_digits=2), 0) for _ in range(100000)],\n",
    "    'Inteiro': [fake.random_int(min=1, max=100) for _ in range(100000)],\n",
    "}\n",
    "\n",
    "# Criar DataFrame\n",
    "df = pd.DataFrame(data)\n",
    "\n",
    "# Salvar DataFrame como arquivo Excel\n",
    "df.to_excel('dados.xlsx', index=False)\n"
   ]
  },
  {
   "cell_type": "code",
   "execution_count": 4,
   "metadata": {},
   "outputs": [],
   "source": [
    "import random\n",
    "from faker import Faker\n",
    "import pandas as pd\n",
    "from datetime import datetime, timedelta\n",
    "\n",
    "fake = Faker()\n",
    "\n",
    "# Gerar dados\n",
    "data = {\n",
    "    'Nome': [fake.name() for _ in range(10000)],\n",
    "    'Matricula': [fake.unique.random_number(digits=12) for _ in range(10000)],\n",
    "    'Data_Entrada': [fake.date_of_birth(minimum_age=18, maximum_age=65).strftime('%d/%m/%Y') for _ in range(10000)],\n",
    "    'Salario': [round(random.uniform(3000, 10000), 2) for _ in range(10000)]\n",
    "}\n",
    "\n",
    "# Criar DataFrame\n",
    "df = pd.DataFrame(data)\n",
    "\n",
    "# Salvar em CSV\n",
    "df.to_csv('dados_funcionarios.csv', index=False)"
   ]
  }
 ],
 "metadata": {
  "kernelspec": {
   "display_name": "Python 3",
   "language": "python",
   "name": "python3"
  },
  "language_info": {
   "codemirror_mode": {
    "name": "ipython",
    "version": 3
   },
   "file_extension": ".py",
   "mimetype": "text/x-python",
   "name": "python",
   "nbconvert_exporter": "python",
   "pygments_lexer": "ipython3",
   "version": "3.11.5"
  },
  "orig_nbformat": 4
 },
 "nbformat": 4,
 "nbformat_minor": 2
}
